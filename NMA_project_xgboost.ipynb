{
 "cells": [
  {
   "cell_type": "code",
   "execution_count": 1,
   "metadata": {},
   "outputs": [
    {
     "name": "stdout",
     "output_type": "stream",
     "text": [
      "Dataset shape: (26350, 3)\n",
      "Dataset columns: Index(['Unnamed: 0', 'diseases', 'Symptom_labels'], dtype='object')\n",
      "First few rows of the dataset:\n",
      "   Unnamed: 0                   diseases  \\\n",
      "0           0  abdominal aortic aneurysm   \n",
      "1           1  abdominal aortic aneurysm   \n",
      "2           2  abdominal aortic aneurysm   \n",
      "3           3  abdominal aortic aneurysm   \n",
      "4           4  abdominal aortic aneurysm   \n",
      "\n",
      "                                      Symptom_labels  \n",
      "0  shortness of breath, palpitations, arm swellin...  \n",
      "1  shortness of breath, palpitations, burning abd...  \n",
      "2  shortness of breath, palpitations, sharp abdom...  \n",
      "3  shortness of breath, palpitations, arm swellin...  \n",
      "4  shortness of breath, palpitations, arm swellin...  \n",
      "Precision: 0.8152703622646668\n",
      "Recall: 0.7967741935483871\n",
      "accuracy: 0.7967741935483871\n"
     ]
    }
   ],
   "source": [
    "import pandas as pd\n",
    "import xgboost as xgb\n",
    "from sklearn.model_selection import train_test_split\n",
    "from sklearn.metrics import precision_score, recall_score\n",
    "from sklearn.feature_extraction.text import TfidfVectorizer\n",
    "from sklearn.metrics import precision_score, recall_score, accuracy_score\n",
    "\n",
    "file_path = 'C:/Users/roza/Downloads/LLM_df_stringify_filtered.csv'\n",
    "df = pd.read_csv(file_path)\n",
    "\n",
    "print(\"Dataset shape:\", df.shape)\n",
    "print(\"Dataset columns:\", df.columns)\n",
    "print(\"First few rows of the dataset:\")\n",
    "print(df.head())\n",
    "\n",
    "feature_col = 'Symptom_labels'\n",
    "target_col = 'diseases'\n",
    "\n",
    "tfidf = TfidfVectorizer()\n",
    "X = tfidf.fit_transform(df[feature_col].astype('str'))\n",
    "y = df[target_col].astype('category').cat.codes\n",
    "\n",
    "X_train, X_test, y_train, y_test = train_test_split(X, y, test_size=0.2, random_state=42)\n",
    "\n",
    "params = {\n",
    "    'objective': 'multi:softprob',  \n",
    "    'num_class': len(set(y)),     \n",
    "    'eval_metric': 'mlogloss',   \n",
    "}\n",
    "\n",
    "dtrain = xgb.DMatrix(X_train, label=y_train)\n",
    "dtest = xgb.DMatrix(X_test, label=y_test)\n",
    "\n",
    "bst = xgb.train(params, dtrain, num_boost_round=100)\n",
    "\n",
    "y_pred_prob = bst.predict(dtest)\n",
    "y_pred = y_pred_prob.argmax(axis=1)\n",
    "\n",
    "# Evaluate the model\n",
    "precision = precision_score(y_test, y_pred, average='weighted')\n",
    "recall = recall_score(y_test, y_pred, average='weighted')\n",
    "accuracy = accuracy_score(y_test, y_pred)\n",
    "\n",
    "print(f\"Precision: {precision}\")\n",
    "print(f\"Recall: {recall}\")\n",
    "print(f\"accuracy: {accuracy}\")"
   ]
  },
  {
   "cell_type": "code",
   "execution_count": null,
   "metadata": {},
   "outputs": [],
   "source": []
  }
 ],
 "metadata": {
  "kernelspec": {
   "display_name": "Python 3",
   "language": "python",
   "name": "python3"
  },
  "language_info": {
   "codemirror_mode": {
    "name": "ipython",
    "version": 3
   },
   "file_extension": ".py",
   "mimetype": "text/x-python",
   "name": "python",
   "nbconvert_exporter": "python",
   "pygments_lexer": "ipython3",
   "version": "3.12.2"
  }
 },
 "nbformat": 4,
 "nbformat_minor": 2
}
