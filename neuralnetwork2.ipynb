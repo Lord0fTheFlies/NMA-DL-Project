{
 "cells": [
  {
   "cell_type": "markdown",
   "metadata": {},
   "source": [
    "##Neural Network"
   ]
  },
  {
   "cell_type": "markdown",
   "metadata": {},
   "source": [
    "#Imports"
   ]
  },
  {
   "cell_type": "code",
   "execution_count": 1,
   "metadata": {},
   "outputs": [
    {
     "name": "stderr",
     "output_type": "stream",
     "text": [
      "/Library/Frameworks/Python.framework/Versions/3.11/lib/python3.11/site-packages/tqdm/auto.py:21: TqdmWarning: IProgress not found. Please update jupyter and ipywidgets. See https://ipywidgets.readthedocs.io/en/stable/user_install.html\n",
      "  from .autonotebook import tqdm as notebook_tqdm\n"
     ]
    }
   ],
   "source": [
    "import pandas as pd\n",
    "import numpy as np\n",
    "import torch\n",
    "import torch.nn as nn\n",
    "import torch.optim as optim\n",
    "from torch.utils.data import Dataset, DataLoader\n",
    "from sklearn.model_selection import train_test_split\n",
    "from sklearn.preprocessing import LabelEncoder\n",
    "from transformers import DistilBertTokenizer, DistilBertModel\n",
    "from joblib import Parallel, delayed\n",
    "from torch.cuda.amp import GradScaler, autocast\n",
    "from sklearn.metrics import precision_recall_fscore_support, accuracy_score\n",
    "import torch.multiprocessing as mp\n",
    "from dataset import DiseaseSymptomDataset"
   ]
  },
  {
   "cell_type": "markdown",
   "metadata": {},
   "source": [
    "##Data retrival"
   ]
  },
  {
   "cell_type": "code",
   "execution_count": 2,
   "metadata": {},
   "outputs": [
    {
     "name": "stdout",
     "output_type": "stream",
     "text": [
      "         diseases  anxiety and nervousness  depression  shortness of breath  \\\n",
      "0  panic disorder                        1           0                    1   \n",
      "1  panic disorder                        0           0                    1   \n",
      "2  panic disorder                        1           1                    1   \n",
      "3  panic disorder                        1           0                    0   \n",
      "4  panic disorder                        1           1                    0   \n",
      "\n",
      "   depressive or psychotic symptoms  sharp chest pain  dizziness  insomnia  \\\n",
      "0                                 1                 0          0         0   \n",
      "1                                 1                 0          1         1   \n",
      "2                                 1                 0          1         1   \n",
      "3                                 1                 0          1         1   \n",
      "4                                 0                 0          0         1   \n",
      "\n",
      "   abnormal involuntary movements  chest tightness  ...  \\\n",
      "0                               0                1  ...   \n",
      "1                               0                0  ...   \n",
      "2                               0                0  ...   \n",
      "3                               1                0  ...   \n",
      "4                               1                1  ...   \n",
      "\n",
      "   stuttering or stammering  problems with orgasm  nose deformity  \\\n",
      "0                         0                     0               0   \n",
      "1                         0                     0               0   \n",
      "2                         0                     0               0   \n",
      "3                         0                     0               0   \n",
      "4                         0                     0               0   \n",
      "\n",
      "   lump over jaw  sore in nose  hip weakness  back swelling  \\\n",
      "0              0             0             0              0   \n",
      "1              0             0             0              0   \n",
      "2              0             0             0              0   \n",
      "3              0             0             0              0   \n",
      "4              0             0             0              0   \n",
      "\n",
      "   ankle stiffness or tightness  ankle weakness  neck weakness  \n",
      "0                             0               0              0  \n",
      "1                             0               0              0  \n",
      "2                             0               0              0  \n",
      "3                             0               0              0  \n",
      "4                             0               0              0  \n",
      "\n",
      "[5 rows x 378 columns]\n",
      "<class 'pandas.core.frame.DataFrame'>\n",
      "RangeIndex: 246945 entries, 0 to 246944\n",
      "Columns: 378 entries, diseases to neck weakness\n",
      "dtypes: int64(377), object(1)\n",
      "memory usage: 712.2+ MB\n",
      "None\n"
     ]
    }
   ],
   "source": [
    "import pandas as pd\n",
    "\n",
    "df = pd.read_csv(\"Final_Augmented_dataset_Diseases_and_Symptoms.csv\")\n",
    "print(df.head())\n",
    "print(df.info())\n"
   ]
  },
  {
   "cell_type": "code",
   "execution_count": 13,
   "metadata": {},
   "outputs": [],
   "source": [
    "class DistilBERTClassifier(nn.Module):\n",
    "    def __init__(self, num_labels):\n",
    "        super(DistilBERTClassifier, self).__init__()\n",
    "        self.bert = DistilBertModel.from_pretrained('distilbert-base-uncased')\n",
    "        self.dropout = nn.Dropout(0.3)\n",
    "        self.linear = nn.Linear(768, num_labels)\n",
    "\n",
    "    def forward(self, input_ids, attention_mask):\n",
    "        outputs = self.bert(input_ids=input_ids, attention_mask=attention_mask)\n",
    "        pooled_output = outputs.last_hidden_state[:, 0]\n",
    "        dropout_output = self.dropout(pooled_output)\n",
    "        linear_output = self.linear(dropout_output)\n",
    "        return linear_output"
   ]
  },
  {
   "cell_type": "code",
   "execution_count": 4,
   "metadata": {},
   "outputs": [
    {
     "name": "stdout",
     "output_type": "stream",
     "text": [
      "Index(['diseases', 'anxiety and nervousness', 'depression',\n",
      "       'shortness of breath', 'depressive or psychotic symptoms',\n",
      "       'sharp chest pain', 'dizziness', 'insomnia',\n",
      "       'abnormal involuntary movements', 'chest tightness',\n",
      "       ...\n",
      "       'stuttering or stammering', 'problems with orgasm', 'nose deformity',\n",
      "       'lump over jaw', 'sore in nose', 'hip weakness', 'back swelling',\n",
      "       'ankle stiffness or tightness', 'ankle weakness', 'neck weakness'],\n",
      "      dtype='object', length=378)\n"
     ]
    }
   ],
   "source": [
    "print(df.columns)"
   ]
  },
  {
   "cell_type": "code",
   "execution_count": 14,
   "metadata": {},
   "outputs": [],
   "source": [
    "def train_epoch(model, dataloader, optimizer, criterion, scaler, device, use_cuda):\n",
    "    model.train()\n",
    "    total_loss = 0\n",
    "    for batch in dataloader:\n",
    "        optimizer.zero_grad()\n",
    "        input_ids, attention_mask, labels = (batch['input_ids'].to(device),\n",
    "                                             batch['attention_mask'].to(device),\n",
    "                                             batch['labels'].to(device))\n",
    "        if use_cuda:\n",
    "            with autocast():\n",
    "                outputs = model(input_ids, attention_mask)\n",
    "                loss = criterion(outputs, labels)\n",
    "            scaler.scale(loss).backward()\n",
    "            scaler.step(optimizer)\n",
    "            scaler.update()\n",
    "        else:\n",
    "            outputs = model(input_ids, attention_mask)\n",
    "            loss = criterion(outputs, labels)\n",
    "            loss.backward()\n",
    "            optimizer.step()\n",
    "        total_loss += loss.item()\n",
    "    return total_loss / len(dataloader)"
   ]
  },
  {
   "cell_type": "code",
   "execution_count": 15,
   "metadata": {},
   "outputs": [],
   "source": [
    "def eval_epoch(model, dataloader, criterion, device):\n",
    "    model.eval()\n",
    "    total_loss = 0\n",
    "    total_correct = 0\n",
    "    with torch.no_grad():\n",
    "        for batch in dataloader:\n",
    "            input_ids, attention_mask, labels = (batch['input_ids'].to(device),\n",
    "                                                 batch['attention_mask'].to(device),\n",
    "                                                 batch['labels'].to(device))\n",
    "            outputs = model(input_ids, attention_mask)\n",
    "            loss = criterion(outputs, labels)\n",
    "            total_loss += loss.item()\n",
    "            _, preds = torch.max(outputs, dim=1)\n",
    "            total_correct += torch.sum(preds == labels).item()\n",
    "    return total_loss / len(dataloader), total_correct / len(dataloader.dataset)\n"
   ]
  },
  {
   "cell_type": "code",
   "execution_count": 16,
   "metadata": {},
   "outputs": [],
   "source": [
    "def compute_metrics(p):\n",
    "    predictions, labels = p\n",
    "    if isinstance(predictions, tuple):\n",
    "        predictions = predictions[0]\n",
    "    preds = np.argmax(predictions, axis=-1)\n",
    "    precision, recall, f1, _ = precision_recall_fscore_support(labels, preds, average='weighted')\n",
    "    acc = accuracy_score(labels, preds)\n",
    "    return {\n",
    "        'accuracy': acc,\n",
    "        'f1': f1,\n",
    "        'precision': precision,\n",
    "        'recall': recall\n",
    "    }"
   ]
  },
  {
   "cell_type": "code",
   "execution_count": 17,
   "metadata": {},
   "outputs": [],
   "source": [
    "def main():\n",
    "    df = pd.read_csv(\"Final_Augmented_dataset_Diseases_and_Symptoms.csv\")\n",
    "    disease_column = 'diseases'\n",
    "    symptom_columns = df.columns[1:]\n",
    "\n",
    "    df['symptom'] = df[symptom_columns].apply(lambda x: ' '.join(x.dropna().astype(str)), axis=1)\n",
    "    df = df.dropna(subset=['symptom', disease_column])\n",
    "    df['text'] = df['symptom'].apply(lambda x: x.lower())\n",
    "\n",
    "    label_encoder = LabelEncoder()\n",
    "    df['label'] = label_encoder.fit_transform(df[disease_column])\n",
    "\n",
    "    train_texts, val_texts, train_labels, val_labels = train_test_split(df['text'], df['label'], test_size=0.2, random_state=42)\n",
    "\n",
    "    tokenizer = DistilBertTokenizer.from_pretrained('distilbert-base-uncased')\n",
    "\n",
    "    def tokenize_batch(texts, tokenizer):\n",
    "        return tokenizer(texts, truncation=True, padding=True, max_length=512)\n",
    "\n",
    "    def batch_tokenize_parallel(texts, tokenizer, n_jobs=4):\n",
    "        texts = texts.tolist()\n",
    "        batch_size = len(texts) // n_jobs\n",
    "        results = Parallel(n_jobs=n_jobs)(delayed(tokenize_batch)(texts[i:i + batch_size], tokenizer) for i in range(0, len(texts), batch_size))\n",
    "        input_ids = [item for sublist in results for item in sublist['input_ids']]\n",
    "        attention_mask = [item for sublist in results for item in sublist['attention_mask']]\n",
    "        return {'input_ids': input_ids, 'attention_mask': attention_mask}\n",
    "\n",
    "    train_encodings = batch_tokenize_parallel(train_texts, tokenizer)\n",
    "    val_encodings = batch_tokenize_parallel(val_texts, tokenizer)\n",
    "\n",
    "    train_encodings['labels'] = train_labels.tolist()\n",
    "    val_encodings['labels'] = val_labels.tolist()\n",
    "\n",
    "    print(\"Tokenization completed successfully.\")\n",
    "\n",
    "    train_dataset = DiseaseSymptomDataset(train_encodings)\n",
    "    val_dataset = DiseaseSymptomDataset(val_encodings)\n",
    "\n",
    "    train_loader = DataLoader(train_dataset, batch_size=32, shuffle=True, num_workers=8, pin_memory=True)\n",
    "    val_loader = DataLoader(val_dataset, batch_size=32, shuffle=False, num_workers=8, pin_memory=True)\n",
    "\n",
    "    num_labels = len(label_encoder.classes_)\n",
    "    model = DistilBERTClassifier(num_labels)\n",
    "    device = torch.device(\"cuda\" if torch.cuda.is_available() else \"cpu\")\n",
    "    model.to(device)\n",
    "    optimizer = optim.AdamW(model.parameters(), lr=5e-5)\n",
    "    criterion = nn.CrossEntropyLoss()\n",
    "\n",
    "    use_cuda = torch.cuda.is_available()\n",
    "    scaler = GradScaler(enabled=use_cuda)\n",
    "\n",
    "    num_epochs = 3\n",
    "    for epoch in range(num_epochs):\n",
    "        train_loss = train_epoch(model, train_loader, optimizer, criterion, scaler, device, use_cuda)\n",
    "        val_loss, val_accuracy = eval_epoch(model, val_loader, criterion, device)\n",
    "        print(f\"Epoch {epoch + 1}/{num_epochs}\")\n",
    "        print(f\"Train Loss: {train_loss:.4f}\")\n",
    "        print(f\"Validation Loss: {val_loss:.4f}\")\n",
    "        print(f\"Validation Accuracy: {val_accuracy:.4f}\")"
   ]
  },
  {
   "cell_type": "code",
   "execution_count": 18,
   "metadata": {},
   "outputs": [
    {
     "name": "stdout",
     "output_type": "stream",
     "text": [
      "Tokenization completed successfully.\n"
     ]
    }
   ],
   "source": [
    "if __name__ == '__main__':\n",
    "    try:\n",
    "        mp.set_start_method('spawn', force=True)\n",
    "    except RuntimeError:\n",
    "        pass\n",
    "    main()\n"
   ]
  }
 ],
 "metadata": {
  "kernelspec": {
   "display_name": "Python 3",
   "language": "python",
   "name": "python3"
  },
  "language_info": {
   "codemirror_mode": {
    "name": "ipython",
    "version": 3
   },
   "file_extension": ".py",
   "mimetype": "text/x-python",
   "name": "python",
   "nbconvert_exporter": "python",
   "pygments_lexer": "ipython3",
   "version": "3.11.4"
  }
 },
 "nbformat": 4,
 "nbformat_minor": 2
}
